{
 "cells": [
  {
   "cell_type": "markdown",
   "id": "50789a64",
   "metadata": {},
   "source": [
    "# Database"
   ]
  },
  {
   "cell_type": "markdown",
   "id": "3eeb318c",
   "metadata": {},
   "source": [
    "#### Definition:\n",
    "* A database is an organized collection of structured information, or data, typically stored electronically in a computer system."
   ]
  },
  {
   "cell_type": "markdown",
   "id": "1eb3da82",
   "metadata": {},
   "source": [
    "#### Disclaimer!\n",
    "1. It is a very important, conceptional and lengthy topic! Not covering 100% of this topic but I'll try to make it as much easier as I could!\n",
    "2. You should have to know at least basic of the Database before visiting the code! Else it will make it much difficult!"
   ]
  },
  {
   "cell_type": "markdown",
   "id": "13eb410f",
   "metadata": {},
   "source": [
    "## Importing The Built-in Library of Database"
   ]
  },
  {
   "cell_type": "code",
   "execution_count": 1,
   "id": "deb5579f",
   "metadata": {},
   "outputs": [],
   "source": [
    "import sqlite3 as s3"
   ]
  },
  {
   "cell_type": "markdown",
   "id": "500d96f7",
   "metadata": {},
   "source": [
    "## Making a \"query\"\n",
    "* \"create table\" is a constant and \"student\" is going to be the name of Database"
   ]
  },
  {
   "cell_type": "code",
   "execution_count": 2,
   "id": "129306c4",
   "metadata": {},
   "outputs": [],
   "source": [
    "query = \"create table Student(sID varchar, sname varchar)\""
   ]
  },
  {
   "cell_type": "markdown",
   "id": "236671a3",
   "metadata": {},
   "source": [
    "## Connecting \"sqlite3\" with \"Database\""
   ]
  },
  {
   "cell_type": "code",
   "execution_count": 3,
   "id": "c16e24da",
   "metadata": {},
   "outputs": [],
   "source": [
    "con = s3.connect(\"student.sqlite\")"
   ]
  },
  {
   "cell_type": "markdown",
   "id": "93f98966",
   "metadata": {},
   "source": [
    "## Executing the Database\n",
    "* The Database is created after executing but it is empty."
   ]
  },
  {
   "cell_type": "code",
   "execution_count": 4,
   "id": "0ac8e8f0",
   "metadata": {},
   "outputs": [
    {
     "data": {
      "text/plain": [
       "<sqlite3.Cursor at 0x1d4063f3dc0>"
      ]
     },
     "execution_count": 4,
     "metadata": {},
     "output_type": "execute_result"
    }
   ],
   "source": [
    "con.execute(query)"
   ]
  },
  {
   "cell_type": "markdown",
   "id": "0fd1f2bf",
   "metadata": {},
   "source": [
    "## Inserting Data in Database"
   ]
  },
  {
   "cell_type": "markdown",
   "id": "2ebef30c",
   "metadata": {},
   "source": [
    "#### Step 1: Creating Data\n",
    "* Making a specific data for Database!"
   ]
  },
  {
   "cell_type": "code",
   "execution_count": 5,
   "id": "e10be20c",
   "metadata": {},
   "outputs": [],
   "source": [
    "data = [\n",
    "    (1,'Jamshed'),\n",
    "    (2,'Qasim'),\n",
    "    (3,'Aima'),\n",
    "    (4,'Nawab')\n",
    "]"
   ]
  },
  {
   "cell_type": "markdown",
   "id": "8f099cfd",
   "metadata": {},
   "source": [
    "#### Step 2: Making query to insert\n",
    "* Again makinga query to insert Data into the database\n",
    "* In the below line only word \"student\" is not constant as it is the name of the database, everything else is a \"constent code of execution\"."
   ]
  },
  {
   "cell_type": "code",
   "execution_count": 6,
   "id": "5eb2267d",
   "metadata": {},
   "outputs": [],
   "source": [
    "query = \"INSERT INTO student values(?,?)\""
   ]
  },
  {
   "cell_type": "markdown",
   "id": "b9c0fe4d",
   "metadata": {},
   "source": [
    "#### Step 3: Conneting\n",
    "* Now connecting query with data"
   ]
  },
  {
   "cell_type": "code",
   "execution_count": 7,
   "id": "1077a91e",
   "metadata": {},
   "outputs": [
    {
     "data": {
      "text/plain": [
       "<sqlite3.Cursor at 0x1d4063f3f80>"
      ]
     },
     "execution_count": 7,
     "metadata": {},
     "output_type": "execute_result"
    }
   ],
   "source": [
    "con.executemany(query,data)"
   ]
  },
  {
   "cell_type": "markdown",
   "id": "7a58a9c4",
   "metadata": {},
   "source": [
    "#### Step 4: Commit\n",
    "* Now the only thing left is to commit and then the data will be inserted\n",
    "* Any change you want to change in database you must have to commit or else the work will left undone!"
   ]
  },
  {
   "cell_type": "code",
   "execution_count": 8,
   "id": "b5e03536",
   "metadata": {},
   "outputs": [],
   "source": [
    "con.commit()"
   ]
  },
  {
   "cell_type": "markdown",
   "id": "53bb5af7",
   "metadata": {},
   "source": [
    "## Fetching Data from Database"
   ]
  },
  {
   "cell_type": "markdown",
   "id": "65ab5a3b",
   "metadata": {},
   "source": [
    "#### Step 1: Making a query\n",
    "* \"*\" means all columns.\n",
    "* For single columns mentioning of \"Index\"."
   ]
  },
  {
   "cell_type": "code",
   "execution_count": 9,
   "id": "e6eef372",
   "metadata": {},
   "outputs": [],
   "source": [
    "query = \"select * from student\""
   ]
  },
  {
   "cell_type": "markdown",
   "id": "3bf477f3",
   "metadata": {},
   "source": [
    "#### Step 2: Making a \"Cursor\""
   ]
  },
  {
   "cell_type": "code",
   "execution_count": 10,
   "id": "ac2cbcdf",
   "metadata": {},
   "outputs": [],
   "source": [
    "cursor = con.execute(query)"
   ]
  },
  {
   "cell_type": "markdown",
   "id": "c5f0b045",
   "metadata": {},
   "source": [
    "#### Step 3: Fetching"
   ]
  },
  {
   "cell_type": "code",
   "execution_count": 11,
   "id": "353382a3",
   "metadata": {},
   "outputs": [],
   "source": [
    "row = cursor.fetchall()"
   ]
  },
  {
   "cell_type": "code",
   "execution_count": 12,
   "id": "75f6d708",
   "metadata": {},
   "outputs": [
    {
     "data": {
      "text/plain": [
       "[('1', 'Jamshed'), ('2', 'Qasim'), ('3', 'Aima'), ('4', 'Nawab')]"
      ]
     },
     "execution_count": 12,
     "metadata": {},
     "output_type": "execute_result"
    }
   ],
   "source": [
    "row"
   ]
  },
  {
   "cell_type": "markdown",
   "id": "8ce382d8",
   "metadata": {},
   "source": [
    "#### Step 4: Connection Closing (Important)"
   ]
  },
  {
   "cell_type": "code",
   "execution_count": 13,
   "id": "0e9e2faa",
   "metadata": {},
   "outputs": [],
   "source": [
    "con.close()"
   ]
  },
  {
   "cell_type": "markdown",
   "id": "27089e8b",
   "metadata": {},
   "source": [
    "## Checking Description"
   ]
  },
  {
   "cell_type": "markdown",
   "id": "a0039530",
   "metadata": {},
   "source": [
    "Every time after closeing database we have to re_connect"
   ]
  },
  {
   "cell_type": "code",
   "execution_count": 14,
   "id": "bf6492ed",
   "metadata": {},
   "outputs": [],
   "source": [
    "con = s3.connect(\"student.sqlite\")"
   ]
  },
  {
   "cell_type": "code",
   "execution_count": 15,
   "id": "4c261b2b",
   "metadata": {},
   "outputs": [
    {
     "data": {
      "text/plain": [
       "(('sID', None, None, None, None, None, None),\n",
       " ('sname', None, None, None, None, None, None))"
      ]
     },
     "execution_count": 15,
     "metadata": {},
     "output_type": "execute_result"
    }
   ],
   "source": [
    "cursor.description"
   ]
  },
  {
   "cell_type": "code",
   "execution_count": 16,
   "id": "c5955f5b",
   "metadata": {},
   "outputs": [],
   "source": [
    "con.close()"
   ]
  }
 ],
 "metadata": {
  "kernelspec": {
   "display_name": "Python 3 (ipykernel)",
   "language": "python",
   "name": "python3"
  },
  "language_info": {
   "codemirror_mode": {
    "name": "ipython",
    "version": 3
   },
   "file_extension": ".py",
   "mimetype": "text/x-python",
   "name": "python",
   "nbconvert_exporter": "python",
   "pygments_lexer": "ipython3",
   "version": "3.9.13"
  }
 },
 "nbformat": 4,
 "nbformat_minor": 5
}
